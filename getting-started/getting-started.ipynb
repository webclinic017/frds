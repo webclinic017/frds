{
 "metadata": {
  "language_info": {
   "codemirror_mode": {
    "name": "ipython",
    "version": 3
   },
   "file_extension": ".py",
   "mimetype": "text/x-python",
   "name": "python",
   "nbconvert_exporter": "python",
   "pygments_lexer": "ipython3",
   "version": "3.9.5"
  },
  "orig_nbformat": 2,
  "kernelspec": {
   "name": "python395jvsc74a57bd0bbdbf75f41ada23912a71ef24021f67bf8fe4a93d149081d5d562d8baf8ba76e",
   "display_name": "Python 3.9.5 64-bit"
  },
  "metadata": {
   "interpreter": {
    "hash": "bbdbf75f41ada23912a71ef24021f67bf8fe4a93d149081d5d562d8baf8ba76e"
   }
  }
 },
 "nbformat": 4,
 "nbformat_minor": 2,
 "cells": [
  {
   "source": [
    "# Getting started\n",
    "\n",
    "## Installation \n",
    "\n",
    "[`frds`](/) requires Python3.8 or higher.\n",
    "\n",
    "### Install via `PyPI`\n",
    "\n",
    "Using `pip` is the simplest way. To install using `pip`:\n",
    "\n",
    "```bash\n",
    "pip install frds --upgrade\n",
    "```\n",
    "\n",
    "### Install from source\n",
    "\n",
    "[`frds`](https://github.com/mgao6767/frds/) is available on GitHub. To download the source code and install:\n",
    "\n",
    "```bash\n",
    "cd ~\n",
    "git clone https://github.com/mgao6767/frds.git\n",
    "cd frds\n",
    "pip install .\n",
    "```\n",
    "\n"
   ],
   "cell_type": "markdown",
   "metadata": {}
  },
  {
   "source": [
    "## Setup\n",
    "\n",
    "By default, a folder named `frds` will be created under the user's home directory to store downloaded data."
   ],
   "cell_type": "markdown",
   "metadata": {}
  },
  {
   "source": [
    "`frds` primarily uses WRDS to obtain data, so it requires WRDS login credentials. The setup is done by `frds.io.wrds.setup`:"
   ],
   "cell_type": "markdown",
   "metadata": {}
  },
  {
   "cell_type": "code",
   "execution_count": 1,
   "metadata": {},
   "outputs": [],
   "source": [
    "from frds.io.wrds import setup"
   ]
  },
  {
   "source": [
    "If `save_credentials=True`, the username and password will be saved locally in `credentials.json` in the `frds` folder. Then in later uses, no more setup is required (no just current session)."
   ],
   "cell_type": "markdown",
   "metadata": {}
  },
  {
   "cell_type": "code",
   "execution_count": 2,
   "metadata": {},
   "outputs": [],
   "source": [
    "setup(username='username', password='password', save_credentials=False)"
   ]
  },
  {
   "source": [
    "## Usage\n",
    "\n",
    "### Compute metrics on the go\n",
    "A typical example of how to use `frds` in a few lines."
   ],
   "cell_type": "markdown",
   "metadata": {}
  },
  {
   "cell_type": "code",
   "execution_count": 3,
   "metadata": {},
   "outputs": [
    {
     "output_type": "execute_result",
     "data": {
      "text/plain": [
       "                   Tangibility\n",
       "GVKEY  DATADATE               \n",
       "001000 1961-12-31          NaN\n",
       "       1962-12-31          NaN\n",
       "       1963-12-31          NaN\n",
       "       1964-12-31     0.397599\n",
       "       1965-12-31     0.604762\n",
       "...                        ...\n",
       "001004 1982-05-31     0.286231\n",
       "       1983-05-31     0.287057\n",
       "       1984-05-31     0.245198\n",
       "       1985-05-31     0.221782\n",
       "       1986-05-31     0.194738\n",
       "\n",
       "[100 rows x 1 columns]"
      ],
      "text/html": "<div>\n<style scoped>\n    .dataframe tbody tr th:only-of-type {\n        vertical-align: middle;\n    }\n\n    .dataframe tbody tr th {\n        vertical-align: top;\n    }\n\n    .dataframe thead th {\n        text-align: right;\n    }\n</style>\n<table border=\"1\" class=\"dataframe\">\n  <thead>\n    <tr style=\"text-align: right;\">\n      <th></th>\n      <th></th>\n      <th>Tangibility</th>\n    </tr>\n    <tr>\n      <th>GVKEY</th>\n      <th>DATADATE</th>\n      <th></th>\n    </tr>\n  </thead>\n  <tbody>\n    <tr>\n      <th rowspan=\"5\" valign=\"top\">001000</th>\n      <th>1961-12-31</th>\n      <td>NaN</td>\n    </tr>\n    <tr>\n      <th>1962-12-31</th>\n      <td>NaN</td>\n    </tr>\n    <tr>\n      <th>1963-12-31</th>\n      <td>NaN</td>\n    </tr>\n    <tr>\n      <th>1964-12-31</th>\n      <td>0.397599</td>\n    </tr>\n    <tr>\n      <th>1965-12-31</th>\n      <td>0.604762</td>\n    </tr>\n    <tr>\n      <th>...</th>\n      <th>...</th>\n      <td>...</td>\n    </tr>\n    <tr>\n      <th rowspan=\"5\" valign=\"top\">001004</th>\n      <th>1982-05-31</th>\n      <td>0.286231</td>\n    </tr>\n    <tr>\n      <th>1983-05-31</th>\n      <td>0.287057</td>\n    </tr>\n    <tr>\n      <th>1984-05-31</th>\n      <td>0.245198</td>\n    </tr>\n    <tr>\n      <th>1985-05-31</th>\n      <td>0.221782</td>\n    </tr>\n    <tr>\n      <th>1986-05-31</th>\n      <td>0.194738</td>\n    </tr>\n  </tbody>\n</table>\n<p>100 rows × 1 columns</p>\n</div>"
     },
     "metadata": {},
     "execution_count": 3
    }
   ],
   "source": [
    "import pandas as pd\n",
    "from frds.data.wrds.comp import funda\n",
    "from frds.io.wrds import load\n",
    "\n",
    "FUNDA = load(funda, use_cache=True, obs=100)\n",
    "\n",
    "(FUNDA.PPENT / FUNDA.AT).to_frame(\"Tangibility\")"
   ]
  },
  {
   "source": [
    "### Buil-in measures\n",
    "\n",
    "The real time-saver is the built-in measures in `frds.measures`."
   ],
   "cell_type": "markdown",
   "metadata": {}
  },
  {
   "cell_type": "code",
   "execution_count": 4,
   "metadata": {},
   "outputs": [
    {
     "output_type": "execute_result",
     "data": {
      "text/plain": [
       "                   ROA: IB/AT\n",
       "GVKEY  DATADATE              \n",
       "001000 1961-12-31         NaN\n",
       "       1962-12-31         NaN\n",
       "       1963-12-31         NaN\n",
       "       1964-12-31    0.027542\n",
       "       1965-12-31   -0.085281\n",
       "...                       ...\n",
       "001004 1982-05-31    0.010778\n",
       "       1983-05-31    0.025115\n",
       "       1984-05-31    0.032697\n",
       "       1985-05-31    0.058370\n",
       "       1986-05-31    0.058027\n",
       "\n",
       "[100 rows x 1 columns]"
      ],
      "text/html": "<div>\n<style scoped>\n    .dataframe tbody tr th:only-of-type {\n        vertical-align: middle;\n    }\n\n    .dataframe tbody tr th {\n        vertical-align: top;\n    }\n\n    .dataframe thead th {\n        text-align: right;\n    }\n</style>\n<table border=\"1\" class=\"dataframe\">\n  <thead>\n    <tr style=\"text-align: right;\">\n      <th></th>\n      <th></th>\n      <th>ROA: IB/AT</th>\n    </tr>\n    <tr>\n      <th>GVKEY</th>\n      <th>DATADATE</th>\n      <th></th>\n    </tr>\n  </thead>\n  <tbody>\n    <tr>\n      <th rowspan=\"5\" valign=\"top\">001000</th>\n      <th>1961-12-31</th>\n      <td>NaN</td>\n    </tr>\n    <tr>\n      <th>1962-12-31</th>\n      <td>NaN</td>\n    </tr>\n    <tr>\n      <th>1963-12-31</th>\n      <td>NaN</td>\n    </tr>\n    <tr>\n      <th>1964-12-31</th>\n      <td>0.027542</td>\n    </tr>\n    <tr>\n      <th>1965-12-31</th>\n      <td>-0.085281</td>\n    </tr>\n    <tr>\n      <th>...</th>\n      <th>...</th>\n      <td>...</td>\n    </tr>\n    <tr>\n      <th rowspan=\"5\" valign=\"top\">001004</th>\n      <th>1982-05-31</th>\n      <td>0.010778</td>\n    </tr>\n    <tr>\n      <th>1983-05-31</th>\n      <td>0.025115</td>\n    </tr>\n    <tr>\n      <th>1984-05-31</th>\n      <td>0.032697</td>\n    </tr>\n    <tr>\n      <th>1985-05-31</th>\n      <td>0.058370</td>\n    </tr>\n    <tr>\n      <th>1986-05-31</th>\n      <td>0.058027</td>\n    </tr>\n  </tbody>\n</table>\n<p>100 rows × 1 columns</p>\n</div>"
     },
     "metadata": {},
     "execution_count": 4
    }
   ],
   "source": [
    "from frds.measures import ROA\n",
    "\n",
    "(roa_v1 := ROA(FUNDA).to_frame(\"ROA: IB/AT\"))"
   ]
  },
  {
   "source": [
    "Some measures may have variants. For example, ROA can be either computed as the income before extraordinary items scaled by contemporaneous total assets, or by lagged total assets which can be calculated by `ROA.v2`."
   ],
   "cell_type": "markdown",
   "metadata": {}
  },
  {
   "cell_type": "code",
   "execution_count": 5,
   "metadata": {},
   "outputs": [
    {
     "output_type": "execute_result",
     "data": {
      "text/plain": [
       "                   ROA: IB/lagged AT\n",
       "GVKEY  DATADATE                     \n",
       "001000 1961-12-31                NaN\n",
       "       1962-12-31                NaN\n",
       "       1963-12-31                NaN\n",
       "       1964-12-31                NaN\n",
       "       1965-12-31          -0.139124\n",
       "...                              ...\n",
       "001004 1982-05-31           0.014746\n",
       "       1983-05-31           0.024592\n",
       "       1984-05-31           0.040319\n",
       "       1985-05-31           0.066102\n",
       "       1986-05-31           0.074039\n",
       "\n",
       "[100 rows x 1 columns]"
      ],
      "text/html": "<div>\n<style scoped>\n    .dataframe tbody tr th:only-of-type {\n        vertical-align: middle;\n    }\n\n    .dataframe tbody tr th {\n        vertical-align: top;\n    }\n\n    .dataframe thead th {\n        text-align: right;\n    }\n</style>\n<table border=\"1\" class=\"dataframe\">\n  <thead>\n    <tr style=\"text-align: right;\">\n      <th></th>\n      <th></th>\n      <th>ROA: IB/lagged AT</th>\n    </tr>\n    <tr>\n      <th>GVKEY</th>\n      <th>DATADATE</th>\n      <th></th>\n    </tr>\n  </thead>\n  <tbody>\n    <tr>\n      <th rowspan=\"5\" valign=\"top\">001000</th>\n      <th>1961-12-31</th>\n      <td>NaN</td>\n    </tr>\n    <tr>\n      <th>1962-12-31</th>\n      <td>NaN</td>\n    </tr>\n    <tr>\n      <th>1963-12-31</th>\n      <td>NaN</td>\n    </tr>\n    <tr>\n      <th>1964-12-31</th>\n      <td>NaN</td>\n    </tr>\n    <tr>\n      <th>1965-12-31</th>\n      <td>-0.139124</td>\n    </tr>\n    <tr>\n      <th>...</th>\n      <th>...</th>\n      <td>...</td>\n    </tr>\n    <tr>\n      <th rowspan=\"5\" valign=\"top\">001004</th>\n      <th>1982-05-31</th>\n      <td>0.014746</td>\n    </tr>\n    <tr>\n      <th>1983-05-31</th>\n      <td>0.024592</td>\n    </tr>\n    <tr>\n      <th>1984-05-31</th>\n      <td>0.040319</td>\n    </tr>\n    <tr>\n      <th>1985-05-31</th>\n      <td>0.066102</td>\n    </tr>\n    <tr>\n      <th>1986-05-31</th>\n      <td>0.074039</td>\n    </tr>\n  </tbody>\n</table>\n<p>100 rows × 1 columns</p>\n</div>"
     },
     "metadata": {},
     "execution_count": 5
    }
   ],
   "source": [
    "(roa_v2 := ROA.v2(FUNDA).to_frame(\"ROA: IB/lagged AT\"))"
   ]
  },
  {
   "source": [
    "We could then perform some easy analyses on the computed metrics."
   ],
   "cell_type": "markdown",
   "metadata": {}
  },
  {
   "cell_type": "code",
   "execution_count": 6,
   "metadata": {},
   "outputs": [
    {
     "output_type": "execute_result",
     "data": {
      "text/plain": [
       "                   ROA: IB/AT  ROA: IB/lagged AT\n",
       "ROA: IB/AT           1.000000           0.786803\n",
       "ROA: IB/lagged AT    0.786803           1.000000"
      ],
      "text/html": "<div>\n<style scoped>\n    .dataframe tbody tr th:only-of-type {\n        vertical-align: middle;\n    }\n\n    .dataframe tbody tr th {\n        vertical-align: top;\n    }\n\n    .dataframe thead th {\n        text-align: right;\n    }\n</style>\n<table border=\"1\" class=\"dataframe\">\n  <thead>\n    <tr style=\"text-align: right;\">\n      <th></th>\n      <th>ROA: IB/AT</th>\n      <th>ROA: IB/lagged AT</th>\n    </tr>\n  </thead>\n  <tbody>\n    <tr>\n      <th>ROA: IB/AT</th>\n      <td>1.000000</td>\n      <td>0.786803</td>\n    </tr>\n    <tr>\n      <th>ROA: IB/lagged AT</th>\n      <td>0.786803</td>\n      <td>1.000000</td>\n    </tr>\n  </tbody>\n</table>\n</div>"
     },
     "metadata": {},
     "execution_count": 6
    }
   ],
   "source": [
    "# Pearson correlation\n",
    "roa_v1.join(roa_v2).corr()"
   ]
  }
 ]
}