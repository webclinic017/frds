{
 "metadata": {
  "language_info": {
   "codemirror_mode": {
    "name": "ipython",
    "version": 3
   },
   "file_extension": ".py",
   "mimetype": "text/x-python",
   "name": "python",
   "nbconvert_exporter": "python",
   "pygments_lexer": "ipython3",
   "version": "3.9.5"
  },
  "orig_nbformat": 2,
  "kernelspec": {
   "name": "python395jvsc74a57bd0bbdbf75f41ada23912a71ef24021f67bf8fe4a93d149081d5d562d8baf8ba76e",
   "display_name": "Python 3.9.5 64-bit"
  },
  "metadata": {
   "interpreter": {
    "hash": "bbdbf75f41ada23912a71ef24021f67bf8fe4a93d149081d5d562d8baf8ba76e"
   }
  }
 },
 "nbformat": 4,
 "nbformat_minor": 2,
 "cells": [
  {
   "source": [
    "# FRDS - *for better and easier finance research*\n",
    "\n",
    "![LICENSE](https://img.shields.io/github/license/mgao6767/frds?color=blue) [![Code style: black](https://img.shields.io/badge/code%20style-black-000000.svg)](https://github.com/psf/black)\n",
    "\n",
    "\n",
    "[frds](https://github.com/mgao6767/frds/) is a Python framework for computing [a collection of major academic measures](/measures) used in the finance literature in a simple and straightforward way."
   ],
   "cell_type": "markdown",
   "metadata": {}
  },
  {
   "source": [
    "## Example usage\n",
    "\n",
    "### Import\n",
    "We start by importing relevant modules.\n",
    "\n",
    "Specifically, we import the `funda` class from the `frds.data.wrds.comp` library since the demo uses only the Fundamentals Annual dataset from Compustat via WRDS. We next import the `setup` and `load` functions from `frds.io.wrds`, which are used to configure WRDS credentials and data management for WRDS datasets."
   ],
   "cell_type": "markdown",
   "metadata": {}
  },
  {
   "cell_type": "code",
   "execution_count": 1,
   "metadata": {},
   "outputs": [],
   "source": [
    "from frds.data.wrds.comp import funda\n",
    "from frds.io.wrds import setup, load"
   ]
  },
  {
   "source": [
    "### (Optional) Setup\n",
    "\n",
    "Then, set WRDS credentials in case later we need to download from WRDS."
   ],
   "cell_type": "markdown",
   "metadata": {}
  },
  {
   "cell_type": "code",
   "execution_count": 2,
   "metadata": {},
   "outputs": [],
   "source": [
    "setup(username='username', password='password', save_credentials=True)"
   ]
  },
  {
   "source": [
    "### Load data\n",
    "We now download the `funda` (Fundamentals Annual) dataset and assign it to the variable `FUNDA`."
   ],
   "cell_type": "markdown",
   "metadata": {}
  },
  {
   "cell_type": "code",
   "execution_count": 3,
   "metadata": {},
   "outputs": [],
   "source": [
    "FUNDA : funda = load(funda, use_cache=True, obs=100)"
   ]
  },
  {
   "source": [
    "### Compute\n",
    "\n",
    "Let's now compute a few metrics to showcase how easy it is."
   ],
   "cell_type": "markdown",
   "metadata": {}
  },
  {
   "cell_type": "code",
   "execution_count": 4,
   "metadata": {},
   "outputs": [
    {
     "output_type": "execute_result",
     "data": {
      "text/plain": [
       "                   Fyear  Tangibility  Firm_Size       MTB    ROA_v1    ROA_v2\n",
       "GVKEY  DATADATE                                                               \n",
       "001000 1970-12-31   1970     0.265351   3.510052  2.319803  0.056143  0.065408\n",
       "       1971-12-31   1971     0.260450   3.378611  2.054797  0.004705  0.004126\n",
       "       1976-12-31   1976     0.426061   3.652890  0.899635  0.088996  0.947310\n",
       "001001 1984-12-31   1984     0.781644   2.789139  1.492970  0.069958  0.080441\n",
       "       1985-12-31   1985     0.567439   3.676174  3.102697  0.065223  0.158357\n",
       "001002 1970-12-31   1970     0.181825   2.619000  0.499715  0.035490  0.032331\n",
       "       1971-12-31   1971     0.207127   2.495104  0.827517  0.065660  0.058009\n",
       "       1972-12-31   1972     0.166369   2.752131  0.561460  0.057285  0.074074\n",
       "001003 1983-12-31   1983     0.030015   2.143472  2.311034  0.123109  0.186435\n",
       "       1984-12-31   1984     0.051450   2.109122  1.138268  0.046960  0.138214"
      ],
      "text/html": "<div>\n<style scoped>\n    .dataframe tbody tr th:only-of-type {\n        vertical-align: middle;\n    }\n\n    .dataframe tbody tr th {\n        vertical-align: top;\n    }\n\n    .dataframe thead th {\n        text-align: right;\n    }\n</style>\n<table border=\"1\" class=\"dataframe\">\n  <thead>\n    <tr style=\"text-align: right;\">\n      <th></th>\n      <th></th>\n      <th>Fyear</th>\n      <th>Tangibility</th>\n      <th>Firm_Size</th>\n      <th>MTB</th>\n      <th>ROA_v1</th>\n      <th>ROA_v2</th>\n    </tr>\n    <tr>\n      <th>GVKEY</th>\n      <th>DATADATE</th>\n      <th></th>\n      <th></th>\n      <th></th>\n      <th></th>\n      <th></th>\n      <th></th>\n    </tr>\n  </thead>\n  <tbody>\n    <tr>\n      <th rowspan=\"3\" valign=\"top\">001000</th>\n      <th>1970-12-31</th>\n      <td>1970</td>\n      <td>0.265351</td>\n      <td>3.510052</td>\n      <td>2.319803</td>\n      <td>0.056143</td>\n      <td>0.065408</td>\n    </tr>\n    <tr>\n      <th>1971-12-31</th>\n      <td>1971</td>\n      <td>0.260450</td>\n      <td>3.378611</td>\n      <td>2.054797</td>\n      <td>0.004705</td>\n      <td>0.004126</td>\n    </tr>\n    <tr>\n      <th>1976-12-31</th>\n      <td>1976</td>\n      <td>0.426061</td>\n      <td>3.652890</td>\n      <td>0.899635</td>\n      <td>0.088996</td>\n      <td>0.947310</td>\n    </tr>\n    <tr>\n      <th rowspan=\"2\" valign=\"top\">001001</th>\n      <th>1984-12-31</th>\n      <td>1984</td>\n      <td>0.781644</td>\n      <td>2.789139</td>\n      <td>1.492970</td>\n      <td>0.069958</td>\n      <td>0.080441</td>\n    </tr>\n    <tr>\n      <th>1985-12-31</th>\n      <td>1985</td>\n      <td>0.567439</td>\n      <td>3.676174</td>\n      <td>3.102697</td>\n      <td>0.065223</td>\n      <td>0.158357</td>\n    </tr>\n    <tr>\n      <th rowspan=\"3\" valign=\"top\">001002</th>\n      <th>1970-12-31</th>\n      <td>1970</td>\n      <td>0.181825</td>\n      <td>2.619000</td>\n      <td>0.499715</td>\n      <td>0.035490</td>\n      <td>0.032331</td>\n    </tr>\n    <tr>\n      <th>1971-12-31</th>\n      <td>1971</td>\n      <td>0.207127</td>\n      <td>2.495104</td>\n      <td>0.827517</td>\n      <td>0.065660</td>\n      <td>0.058009</td>\n    </tr>\n    <tr>\n      <th>1972-12-31</th>\n      <td>1972</td>\n      <td>0.166369</td>\n      <td>2.752131</td>\n      <td>0.561460</td>\n      <td>0.057285</td>\n      <td>0.074074</td>\n    </tr>\n    <tr>\n      <th rowspan=\"2\" valign=\"top\">001003</th>\n      <th>1983-12-31</th>\n      <td>1983</td>\n      <td>0.030015</td>\n      <td>2.143472</td>\n      <td>2.311034</td>\n      <td>0.123109</td>\n      <td>0.186435</td>\n    </tr>\n    <tr>\n      <th>1984-12-31</th>\n      <td>1984</td>\n      <td>0.051450</td>\n      <td>2.109122</td>\n      <td>1.138268</td>\n      <td>0.046960</td>\n      <td>0.138214</td>\n    </tr>\n  </tbody>\n</table>\n</div>"
     },
     "metadata": {},
     "execution_count": 4
    }
   ],
   "source": [
    "import numpy as np\n",
    "import pandas as pd\n",
    "from frds.measures import ROA\n",
    "\n",
    "pd.DataFrame(\n",
    "    {\n",
    "        # We can calculate metrics on the go\n",
    "        \"Fyear\": FUNDA.FYEAR,\n",
    "        \"Tangibility\": FUNDA.PPENT / FUNDA.AT,\n",
    "        \"Firm_Size\": np.log(FUNDA.AT),\n",
    "        \"MTB\": FUNDA.PRCC_F * FUNDA.CSHO / FUNDA.CEQ,\n",
    "        # Or we can use the ones available in FRDS:\n",
    "        # e.g., ROA by default scales income by contemporneous total assets\n",
    "        # ROA.v2 alternatively scales income by lagged total assets\n",
    "        \"ROA_v1\": ROA(FUNDA),\n",
    "        \"ROA_v2\": ROA.v2(FUNDA)\n",
    "    }\n",
    ").dropna().head(10)"
   ]
  },
  {
   "source": [],
   "cell_type": "markdown",
   "metadata": {}
  }
 ]
}