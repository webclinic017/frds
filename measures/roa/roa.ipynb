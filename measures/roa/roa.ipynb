{
 "metadata": {
  "language_info": {
   "codemirror_mode": {
    "name": "ipython",
    "version": 3
   },
   "file_extension": ".py",
   "mimetype": "text/x-python",
   "name": "python",
   "nbconvert_exporter": "python",
   "pygments_lexer": "ipython3",
   "version": "3.9.5"
  },
  "orig_nbformat": 2,
  "kernelspec": {
   "name": "python395jvsc74a57bd0bbdbf75f41ada23912a71ef24021f67bf8fe4a93d149081d5d562d8baf8ba76e",
   "display_name": "Python 3.9.5 64-bit"
  },
  "metadata": {
   "interpreter": {
    "hash": "bbdbf75f41ada23912a71ef24021f67bf8fe4a93d149081d5d562d8baf8ba76e"
   }
  }
 },
 "nbformat": 4,
 "nbformat_minor": 2,
 "cells": [
  {
   "source": [
    "# ROA\n",
    "\n",
    "## Definition\n",
    "\n",
    "Income Before Extraordinary Items scaled by Assets (Total).\n",
    "\n",
    "$$\n",
    "ROA_{i,t} = \\frac{IB_{i,t}}{AT_{i,t}}\n",
    "$$\n",
    "\n",
    "where $IB$ and $AT$ are from Compustat Fundamentals Annual `WRDS.COMP.FUNDA`.\n",
    "\n",
    "It is also common to scale by the lagged total assets:\n",
    "\n",
    "$$\n",
    "ROA_{i,t} = \\frac{IB_{i,t}}{AT_{i,t-1}}\n",
    "$$"
   ],
   "cell_type": "markdown",
   "metadata": {}
  },
  {
   "source": [
    "## Example"
   ],
   "cell_type": "markdown",
   "metadata": {}
  },
  {
   "cell_type": "code",
   "execution_count": 1,
   "metadata": {},
   "outputs": [],
   "source": [
    "from frds.data.wrds.comp import funda, fundq\n",
    "from frds.io.wrds import load\n",
    "from frds.measures import ROA\n",
    "\n",
    "FUNDA, FUNDQ = load(funda), load(fundq)"
   ]
  },
  {
   "source": [
    "### Scale by contemporaneous total assets (`ROA`)"
   ],
   "cell_type": "markdown",
   "metadata": {}
  },
  {
   "cell_type": "code",
   "execution_count": 2,
   "metadata": {},
   "outputs": [
    {
     "output_type": "execute_result",
     "data": {
      "text/plain": [
       "                   ROA: IB/AT\n",
       "GVKEY  DATADATE              \n",
       "001000 1964-12-31    0.027542\n",
       "       1965-12-31   -0.085281\n",
       "       1966-12-31    0.082716\n",
       "       1967-12-31   -0.036645\n",
       "       1968-12-31    0.058595"
      ],
      "text/html": "<div>\n<style scoped>\n    .dataframe tbody tr th:only-of-type {\n        vertical-align: middle;\n    }\n\n    .dataframe tbody tr th {\n        vertical-align: top;\n    }\n\n    .dataframe thead th {\n        text-align: right;\n    }\n</style>\n<table border=\"1\" class=\"dataframe\">\n  <thead>\n    <tr style=\"text-align: right;\">\n      <th></th>\n      <th></th>\n      <th>ROA: IB/AT</th>\n    </tr>\n    <tr>\n      <th>GVKEY</th>\n      <th>DATADATE</th>\n      <th></th>\n    </tr>\n  </thead>\n  <tbody>\n    <tr>\n      <th rowspan=\"5\" valign=\"top\">001000</th>\n      <th>1964-12-31</th>\n      <td>0.027542</td>\n    </tr>\n    <tr>\n      <th>1965-12-31</th>\n      <td>-0.085281</td>\n    </tr>\n    <tr>\n      <th>1966-12-31</th>\n      <td>0.082716</td>\n    </tr>\n    <tr>\n      <th>1967-12-31</th>\n      <td>-0.036645</td>\n    </tr>\n    <tr>\n      <th>1968-12-31</th>\n      <td>0.058595</td>\n    </tr>\n  </tbody>\n</table>\n</div>"
     },
     "metadata": {},
     "execution_count": 2
    }
   ],
   "source": [
    "ROA(FUNDA).to_frame(\"ROA: IB/AT\").dropna().head()"
   ]
  },
  {
   "source": [
    "### Scale by lagged total assets (`ROA.v2`)"
   ],
   "cell_type": "markdown",
   "metadata": {}
  },
  {
   "cell_type": "code",
   "execution_count": 3,
   "metadata": {},
   "outputs": [
    {
     "output_type": "execute_result",
     "data": {
      "text/plain": [
       "                   ROA: IB/lagged AT\n",
       "GVKEY  DATADATE                     \n",
       "001000 1965-12-31          -0.139124\n",
       "       1966-12-31           0.087013\n",
       "       1967-12-31          -0.037037\n",
       "       1968-12-31           0.141287\n",
       "001001 1982-12-31           0.162952"
      ],
      "text/html": "<div>\n<style scoped>\n    .dataframe tbody tr th:only-of-type {\n        vertical-align: middle;\n    }\n\n    .dataframe tbody tr th {\n        vertical-align: top;\n    }\n\n    .dataframe thead th {\n        text-align: right;\n    }\n</style>\n<table border=\"1\" class=\"dataframe\">\n  <thead>\n    <tr style=\"text-align: right;\">\n      <th></th>\n      <th></th>\n      <th>ROA: IB/lagged AT</th>\n    </tr>\n    <tr>\n      <th>GVKEY</th>\n      <th>DATADATE</th>\n      <th></th>\n    </tr>\n  </thead>\n  <tbody>\n    <tr>\n      <th rowspan=\"4\" valign=\"top\">001000</th>\n      <th>1965-12-31</th>\n      <td>-0.139124</td>\n    </tr>\n    <tr>\n      <th>1966-12-31</th>\n      <td>0.087013</td>\n    </tr>\n    <tr>\n      <th>1967-12-31</th>\n      <td>-0.037037</td>\n    </tr>\n    <tr>\n      <th>1968-12-31</th>\n      <td>0.141287</td>\n    </tr>\n    <tr>\n      <th>001001</th>\n      <th>1982-12-31</th>\n      <td>0.162952</td>\n    </tr>\n  </tbody>\n</table>\n</div>"
     },
     "metadata": {},
     "execution_count": 3
    }
   ],
   "source": [
    "ROA.v2(FUNDA).to_frame(\"ROA: IB/lagged AT\").dropna().head()"
   ]
  },
  {
   "source": [
    "### Using quarterly data\n",
    "\n",
    "Alternatively, if estimated on the Fundamentals Quarterly dataset:\n",
    "\n",
    "$$\n",
    "ROA_{i,t} = \\frac{IBQ_{i,t}}{ATQ_{i,t}}\n",
    "$$"
   ],
   "cell_type": "markdown",
   "metadata": {}
  },
  {
   "cell_type": "code",
   "execution_count": 4,
   "metadata": {},
   "outputs": [
    {
     "output_type": "execute_result",
     "data": {
      "text/plain": [
       "                   ROA (qtrly): IB/AT  ROA (qtrly): IB/lagged AT\n",
       "GVKEY  DATADATE                                                 \n",
       "001000 1976-06-30            0.045595                   0.049276\n",
       "       1976-09-30            0.016110                   0.015957\n",
       "       1976-12-31            0.014098                   0.015622\n",
       "       1977-03-31            0.013370                   0.014591\n",
       "       1977-06-30            0.023163                   0.023154"
      ],
      "text/html": "<div>\n<style scoped>\n    .dataframe tbody tr th:only-of-type {\n        vertical-align: middle;\n    }\n\n    .dataframe tbody tr th {\n        vertical-align: top;\n    }\n\n    .dataframe thead th {\n        text-align: right;\n    }\n</style>\n<table border=\"1\" class=\"dataframe\">\n  <thead>\n    <tr style=\"text-align: right;\">\n      <th></th>\n      <th></th>\n      <th>ROA (qtrly): IB/AT</th>\n      <th>ROA (qtrly): IB/lagged AT</th>\n    </tr>\n    <tr>\n      <th>GVKEY</th>\n      <th>DATADATE</th>\n      <th></th>\n      <th></th>\n    </tr>\n  </thead>\n  <tbody>\n    <tr>\n      <th rowspan=\"5\" valign=\"top\">001000</th>\n      <th>1976-06-30</th>\n      <td>0.045595</td>\n      <td>0.049276</td>\n    </tr>\n    <tr>\n      <th>1976-09-30</th>\n      <td>0.016110</td>\n      <td>0.015957</td>\n    </tr>\n    <tr>\n      <th>1976-12-31</th>\n      <td>0.014098</td>\n      <td>0.015622</td>\n    </tr>\n    <tr>\n      <th>1977-03-31</th>\n      <td>0.013370</td>\n      <td>0.014591</td>\n    </tr>\n    <tr>\n      <th>1977-06-30</th>\n      <td>0.023163</td>\n      <td>0.023154</td>\n    </tr>\n  </tbody>\n</table>\n</div>"
     },
     "metadata": {},
     "execution_count": 4
    }
   ],
   "source": [
    "ROA(FUNDQ).to_frame(\"ROA (qtrly): IB/AT\").join(ROA.v2(FUNDQ).to_frame(\"ROA (qtrly): IB/lagged AT\")).dropna().head()"
   ]
  }
 ]
}